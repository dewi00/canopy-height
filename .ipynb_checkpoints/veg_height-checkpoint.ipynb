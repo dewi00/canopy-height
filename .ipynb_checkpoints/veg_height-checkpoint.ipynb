{
 "cells": [
  {
   "cell_type": "markdown",
   "metadata": {},
   "source": [
    "### importing packages "
   ]
  },
  {
   "cell_type": "code",
   "execution_count": 1,
   "metadata": {},
   "outputs": [],
   "source": [
    "import numpy as np\n",
    "import os\n",
    "import glob\n",
    "from pathlib import Path\n",
    "import geopandas as gpd\n",
    "from osgeo import gdal\n",
    "import re\n",
    "import subprocess"
   ]
  },
  {
   "cell_type": "markdown",
   "metadata": {},
   "source": [
    "### SRTM data import and put into string and merged into one raster"
   ]
  },
  {
   "cell_type": "code",
   "execution_count": 2,
   "metadata": {},
   "outputs": [],
   "source": [
    "data = Path('data_canopy_height/').glob('*/*.hgt')\n",
    "data = sorted(data, key=lambda x: x.name)"
   ]
  },
  {
   "cell_type": "code",
   "execution_count": 3,
   "metadata": {},
   "outputs": [],
   "source": [
    "strdata = str(data)\n",
    "strdata1=strdata.replace(\"('\",\"<\")\n",
    "strdata2=strdata1.replace(\"hgt\",\"hgt>\")"
   ]
  },
  {
   "cell_type": "code",
   "execution_count": 4,
   "metadata": {},
   "outputs": [],
   "source": [
    "data_new = re.findall(r'<(.+?)>',strdata2)"
   ]
  },
  {
   "cell_type": "code",
   "execution_count": 5,
   "metadata": {},
   "outputs": [],
   "source": [
    "in_directory = \"/users/dewihenry/jpl/python/data_canopy_height/srtm_mekong/\"\n",
    "files_to_process = glob.glob(os.path.join(in_directory, '*.hgt'))"
   ]
  },
  {
   "cell_type": "code",
   "execution_count": 6,
   "metadata": {},
   "outputs": [
    {
     "name": "stdout",
     "output_type": "stream",
     "text": [
      "\n"
     ]
    }
   ],
   "source": [
    "files_string = \" \" .join(files_to_process)\n",
    "print(files_string)"
   ]
  },
  {
   "cell_type": "code",
   "execution_count": 7,
   "metadata": {},
   "outputs": [],
   "source": [
    "#outfile path \n",
    "outpath = \"data_canopy_height/output/\""
   ]
  },
  {
   "cell_type": "code",
   "execution_count": 11,
   "metadata": {},
   "outputs": [
    {
     "name": "stdout",
     "output_type": "stream",
     "text": [
      "No input files selected.\r\n",
      "Usage: gdal_merge.py [-o out_filename] [-of out_format] [-co NAME=VALUE]*\r\n",
      "                     [-ps pixelsize_x pixelsize_y] [-tap] [-separate] [-q] [-v] [-pct]\r\n",
      "                     [-ul_lr ulx uly lrx lry] [-init \"value [value...]\"]\r\n",
      "                     [-n nodata_value] [-a_nodata output_nodata_value]\r\n",
      "                     [-ot datatype] [-createonly] input_files\r\n",
      "                     [--help-general]\r\n",
      "\r\n"
     ]
    }
   ],
   "source": [
    "#add no data value = 0 \n",
    "#changed define ndv to be 0 and replaced ndv to np.nan\n",
    "ndv = str( np.nan)\n",
    "mergefile = outpath + \"srtm_mekong.tif\"\n",
    "cmd = \"../../../opt/anaconda3/bin/gdal_merge.py -n 0 -a_nodata \" + ndv + \" -o \" + mergefile + \" \" + files_string \n",
    "!{cmd}"
   ]
  },
  {
   "cell_type": "markdown",
   "metadata": {},
   "source": [
    "### SRTM data is now merged now just have to use GDALWarp to out it into a SRS EGM96"
   ]
  },
  {
   "cell_type": "code",
   "execution_count": 12,
   "metadata": {},
   "outputs": [
    {
     "name": "stdout",
     "output_type": "stream",
     "text": [
      "/bin/bash: ../../../opt/anaconda3/bin/gdalwarp.py: No such file or directory\r\n"
     ]
    }
   ],
   "source": [
    "srtm_out = outpath + \"srtm_egm96.tif\"\n",
    "cmd = \"../../../opt/anaconda3/bin/gdalwarp.py -dstnodata 0 -s_srs EPSG:4326+4979 -t_srs EPSG:4326+5773 \" + mergefile + \" \" + srtm_out\n",
    "!{cmd}"
   ]
  },
  {
   "cell_type": "markdown",
   "metadata": {},
   "source": [
    "### importing TanDEM-X data EGM data "
   ]
  },
  {
   "cell_type": "code",
   "execution_count": 118,
   "metadata": {},
   "outputs": [
    {
     "data": {
      "text/plain": [
       "'/users/dewihenry/jpl/python/data_canopy_height/tandemx_EGM.tif'"
      ]
     },
     "execution_count": 118,
     "metadata": {},
     "output_type": "execute_result"
    }
   ],
   "source": [
    "pathin = '/users/dewihenry/jpl/python/data_canopy_height/'\n",
    "egm_data = pathin + 'tandemx_EGM.tif'\n",
    "egm_data"
   ]
  },
  {
   "cell_type": "markdown",
   "metadata": {},
   "source": [
    "### for good meausre going to convert tandemx data to have a EGM96 vertical datum  "
   ]
  },
  {
   "cell_type": "code",
   "execution_count": 119,
   "metadata": {},
   "outputs": [
    {
     "name": "stdout",
     "output_type": "stream",
     "text": [
      "Processing /users/dewihenry/jpl/python/data_canopy_height/tandemx_EGM.tif [1/1] : 0Using internal nodata values (e.g. nan) for image /users/dewihenry/jpl/python/data_canopy_height/tandemx_EGM.tif.\n",
      "...10...20...30...40...50...60...70...80...90...100 - done.\n"
     ]
    }
   ],
   "source": [
    "#no data values are set to 0 \n",
    "outEGM = outpath + \"tandemx_egm96.tif\"\n",
    "cmd = \"../../opt/anaconda3/bin/gdalwarp -dstnodata None -s_srs EPSG:4326+4979 -t_srs EPSG:4326+5773 \" + egm_data + \" \" + outEGM\n",
    "!{cmd}"
   ]
  },
  {
   "cell_type": "markdown",
   "metadata": {},
   "source": [
    "#### currently we have 2 rasters, one SRTM which is an elevation model and tandem_x that shows canopy height. Now we have to put them in the same extent so gdal_calc can subtract them properly. \n",
    "\n",
    "  #### adjust for no data values in both gdalwarps "
   ]
  },
  {
   "cell_type": "markdown",
   "metadata": {},
   "source": [
    "### using gdal_warp to edit the extent of the two rasters"
   ]
  },
  {
   "cell_type": "code",
   "execution_count": 120,
   "metadata": {},
   "outputs": [
    {
     "data": {
      "text/plain": [
       "'data_canopy_height/output/tandemx_egm96.tif'"
      ]
     },
     "execution_count": 120,
     "metadata": {},
     "output_type": "execute_result"
    }
   ],
   "source": [
    "outEGM"
   ]
  },
  {
   "cell_type": "markdown",
   "metadata": {},
   "source": [
    "### cropping the extent of TanDEM-X data"
   ]
  },
  {
   "cell_type": "code",
   "execution_count": 122,
   "metadata": {},
   "outputs": [
    {
     "name": "stdout",
     "output_type": "stream",
     "text": [
      "Creating output file that is 3451P x 4301L.\n",
      "Processing data_canopy_height/output/tandemx_egm96.tif [1/1] : 0...10...20...30...40...50...60...70...80...90...100 - done.\n"
     ]
    }
   ],
   "source": [
    "cropedtandemx = outpath + \"tandemx_cropped1\"\n",
    "extent = \"../../opt/anaconda3/bin/gdalwarp -te 104.120 8.388 106.996 11.972 \" + outEGM + \" \" + cropedtandemx \n",
    "!{extent}"
   ]
  },
  {
   "cell_type": "markdown",
   "metadata": {},
   "source": [
    "### cropping the extent of SRTM data"
   ]
  },
  {
   "cell_type": "code",
   "execution_count": 124,
   "metadata": {},
   "outputs": [
    {
     "name": "stdout",
     "output_type": "stream",
     "text": [
      "Creating output file that is 10354P x 12902L.\n",
      "Processing data_canopy_height/output/srtm_egm96.tif [1/1] : 0Using internal nodata values (e.g. 0) for image data_canopy_height/output/srtm_egm96.tif.\n",
      "Copying nodata values from source data_canopy_height/output/srtm_egm96.tif to destination data_canopy_height/output/srtm_cropped1.\n",
      "...10...20...30...40...50...60...70...80...90...100 - done.\n"
     ]
    }
   ],
   "source": [
    "cropedsrtm = outpath + \"srtm_cropped1\"\n",
    "extent = \"../../opt/anaconda3/bin/gdalwarp -te 104.120 8.388 106.996 11.972 \" + srtm_out + \" \" + cropedsrtm \n",
    "!{extent}"
   ]
  },
  {
   "cell_type": "code",
   "execution_count": 126,
   "metadata": {},
   "outputs": [
    {
     "name": "stdout",
     "output_type": "stream",
     "text": [
      "data_canopy_height/output/srtm_cropped1\n"
     ]
    }
   ],
   "source": [
    "print(cropedsrtm)"
   ]
  },
  {
   "cell_type": "markdown",
   "metadata": {},
   "source": [
    "### calculating the difference between rasters "
   ]
  },
  {
   "cell_type": "code",
   "execution_count": 127,
   "metadata": {},
   "outputs": [
    {
     "name": "stdout",
     "output_type": "stream",
     "text": [
      "Traceback (most recent call last):\r\n",
      "  File \"../../opt/anaconda3/bin/gdal_calc.py\", line 4, in <module>\r\n",
      "    __import__('pkg_resources').run_script('GDAL==2.3.3', 'gdal_calc.py')\r\n",
      "  File \"/Users/dewihenry/opt/anaconda3/lib/python3.7/site-packages/pkg_resources/__init__.py\", line 666, in run_script\r\n",
      "    self.require(requires)[0].run_script(script_name, ns)\r\n",
      "  File \"/Users/dewihenry/opt/anaconda3/lib/python3.7/site-packages/pkg_resources/__init__.py\", line 1463, in run_script\r\n",
      "    exec(code, namespace, namespace)\r\n",
      "  File \"/Users/dewihenry/opt/anaconda3/lib/python3.7/site-packages/GDAL-2.3.3-py3.7-macosx-10.9-x86_64.egg-info/scripts/gdal_calc.py\", line 459, in <module>\r\n",
      "    main()\r\n",
      "  File \"/Users/dewihenry/opt/anaconda3/lib/python3.7/site-packages/GDAL-2.3.3-py3.7-macosx-10.9-x86_64.egg-info/scripts/gdal_calc.py\", line 452, in main\r\n",
      "    doit(opts, args)\r\n",
      "  File \"/Users/dewihenry/opt/anaconda3/lib/python3.7/site-packages/GDAL-2.3.3-py3.7-macosx-10.9-x86_64.egg-info/scripts/gdal_calc.py\", line 169, in doit\r\n",
      "    (myF, myFile.RasterXSize, myFile.RasterYSize, DimensionsCheck[0], DimensionsCheck[1]))\r\n",
      "Exception: Error! Dimensions of file data_canopy_height/output/tandemx_cropped1 (3451, 4301) are different from other files (10354, 12902).  Cannot proceed\r\n"
     ]
    }
   ],
   "source": [
    "diff = outpath + \"canopy_height\"\n",
    "difference = \"../../opt/anaconda3/bin/gdal_calc.py --calc = 'B-A' --outfile = \" + diff + \" -A \" + cropedsrtm + \" -B \" + cropedtandemx \n",
    "!{difference}"
   ]
  },
  {
   "cell_type": "code",
   "execution_count": null,
   "metadata": {},
   "outputs": [],
   "source": []
  }
 ],
 "metadata": {
  "kernelspec": {
   "display_name": "Python 3",
   "language": "python",
   "name": "python3"
  },
  "language_info": {
   "codemirror_mode": {
    "name": "ipython",
    "version": 3
   },
   "file_extension": ".py",
   "mimetype": "text/x-python",
   "name": "python",
   "nbconvert_exporter": "python",
   "pygments_lexer": "ipython3",
   "version": "3.7.6"
  }
 },
 "nbformat": 4,
 "nbformat_minor": 4
}
